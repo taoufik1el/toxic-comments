{
 "cells": [
  {
   "cell_type": "markdown",
   "metadata": {},
   "source": [
    "# Clssification of toxic comments "
   ]
  },
  {
   "cell_type": "code",
   "execution_count": 1,
   "metadata": {
    "execution": {
     "iopub.execute_input": "2022-01-19T11:58:53.325239Z",
     "iopub.status.busy": "2022-01-19T11:58:53.324653Z",
     "iopub.status.idle": "2022-01-19T11:58:54.944839Z",
     "shell.execute_reply": "2022-01-19T11:58:54.944127Z",
     "shell.execute_reply.started": "2022-01-19T11:58:53.325139Z"
    }
   },
   "outputs": [],
   "source": [
    "import numpy as np\n",
    "import pandas as pd\n",
    "import matplotlib.pyplot as plt\n",
    "pd.options.mode.chained_assignment = None\n",
    "import seaborn as sns\n",
    "#sns.set(style = 'white')\n",
    "import nltk\n",
    "#import string\n",
    "from textblob import TextBlob\n",
    "import string\n",
    "import re\n",
    "from tqdm.auto import tqdm\n",
    "from bs4 import BeautifulSoup\n",
    "pd.set_option('display.max_columns', 1000)\n",
    "pd.set_option('display.max_rows', 1000)\n",
    "pd.set_option('display.max_colwidth', 100)"
   ]
  },
  {
   "cell_type": "code",
   "execution_count": 2,
   "metadata": {
    "execution": {
     "iopub.execute_input": "2022-01-19T11:58:57.301344Z",
     "iopub.status.busy": "2022-01-19T11:58:57.300948Z",
     "iopub.status.idle": "2022-01-19T11:59:03.637747Z",
     "shell.execute_reply": "2022-01-19T11:59:03.637048Z",
     "shell.execute_reply.started": "2022-01-19T11:58:57.301298Z"
    }
   },
   "outputs": [],
   "source": [
    "import transformers\n",
    "from transformers import DistilBertTokenizer, DistilBertForSequenceClassification,\\\n",
    "                              AdamW, get_linear_schedule_with_warmup, DistilBertConfig\n",
    "import torch\n",
    "from pylab import rcParams\n",
    "from matplotlib import rc\n",
    "from sklearn.model_selection import train_test_split\n",
    "from sklearn.metrics import confusion_matrix, classification_report\n",
    "from collections import defaultdict\n",
    "from textwrap import wrap\n",
    "import tensorflow as tf\n",
    "import datasets \n",
    "\n",
    "RANDOM_SEED = 331\n",
    "np.random.seed(RANDOM_SEED)\n",
    "torch.manual_seed(RANDOM_SEED)\n",
    "\n",
    "# Evaluation\n",
    "\n",
    "from sklearn.metrics import accuracy_score, classification_report, confusion_matrix\n",
    "import seaborn as sns\n",
    "\n",
    "#https://curiousily.com/posts/sentiment-analysis-with-bert-and-hugging-face-using-pytorch-and-python/"
   ]
  },
  {
   "cell_type": "code",
   "execution_count": 3,
   "metadata": {
    "execution": {
     "iopub.execute_input": "2022-01-19T11:59:03.640810Z",
     "iopub.status.busy": "2022-01-19T11:59:03.640354Z",
     "iopub.status.idle": "2022-01-19T11:59:05.284559Z",
     "shell.execute_reply": "2022-01-19T11:59:05.283820Z",
     "shell.execute_reply.started": "2022-01-19T11:59:03.640773Z"
    }
   },
   "outputs": [],
   "source": [
    "#df=pd.read_csv('../input/jigsaw-unintended-bias-in-toxicity-classification/train.csv')\n",
    "df=pd.read_csv('../input/jigsaw-toxic-comment-classification-challenge/train.csv')\n",
    "#test_df=pd.read_csv('../input/jigsaw-toxic-severity-rating/comments_to_score.csv')"
   ]
  },
  {
   "cell_type": "code",
   "execution_count": 12,
   "metadata": {
    "execution": {
     "iopub.execute_input": "2022-01-19T13:47:03.722646Z",
     "iopub.status.busy": "2022-01-19T13:47:03.722330Z",
     "iopub.status.idle": "2022-01-19T13:47:03.740013Z",
     "shell.execute_reply": "2022-01-19T13:47:03.738775Z",
     "shell.execute_reply.started": "2022-01-19T13:47:03.722615Z"
    }
   },
   "outputs": [
    {
     "data": {
      "text/html": [
       "<div>\n",
       "<style scoped>\n",
       "    .dataframe tbody tr th:only-of-type {\n",
       "        vertical-align: middle;\n",
       "    }\n",
       "\n",
       "    .dataframe tbody tr th {\n",
       "        vertical-align: top;\n",
       "    }\n",
       "\n",
       "    .dataframe thead th {\n",
       "        text-align: right;\n",
       "    }\n",
       "</style>\n",
       "<table border=\"1\" class=\"dataframe\">\n",
       "  <thead>\n",
       "    <tr style=\"text-align: right;\">\n",
       "      <th></th>\n",
       "      <th>id</th>\n",
       "      <th>comment_text</th>\n",
       "      <th>toxic</th>\n",
       "      <th>severe_toxic</th>\n",
       "      <th>obscene</th>\n",
       "      <th>threat</th>\n",
       "      <th>insult</th>\n",
       "      <th>identity_hate</th>\n",
       "    </tr>\n",
       "  </thead>\n",
       "  <tbody>\n",
       "    <tr>\n",
       "      <th>47604</th>\n",
       "      <td>7f2cab91dd44d597</td>\n",
       "      <td>\"\\n\\n   \\nMONGO, tell us. WHY DID YOU DO WTC? Why MONGO? MONGO, tell us. WHY DID YOU DO WTC? Why...</td>\n",
       "      <td>1</td>\n",
       "      <td>0</td>\n",
       "      <td>0</td>\n",
       "      <td>0</td>\n",
       "      <td>0</td>\n",
       "      <td>0</td>\n",
       "    </tr>\n",
       "    <tr>\n",
       "      <th>98579</th>\n",
       "      <td>0f4f08ea91def8b0</td>\n",
       "      <td>Hillsong\\n\\nFirst of all, I have no idea who you are, pal. Probably some BOSSY person who thinks...</td>\n",
       "      <td>0</td>\n",
       "      <td>0</td>\n",
       "      <td>0</td>\n",
       "      <td>0</td>\n",
       "      <td>0</td>\n",
       "      <td>0</td>\n",
       "    </tr>\n",
       "    <tr>\n",
       "      <th>51003</th>\n",
       "      <td>8867ee6de98787d6</td>\n",
       "      <td>REDIRECT Talk:Georgia State Route 25 Spur (Woodbine)</td>\n",
       "      <td>0</td>\n",
       "      <td>0</td>\n",
       "      <td>0</td>\n",
       "      <td>0</td>\n",
       "      <td>0</td>\n",
       "      <td>0</td>\n",
       "    </tr>\n",
       "    <tr>\n",
       "      <th>96586</th>\n",
       "      <td>049474966a63c708</td>\n",
       "      <td>\"\\n\\nThe article states that \"\"Montenegrin and Serb identities are not exclusive\"\", but this is ...</td>\n",
       "      <td>0</td>\n",
       "      <td>0</td>\n",
       "      <td>0</td>\n",
       "      <td>0</td>\n",
       "      <td>0</td>\n",
       "      <td>0</td>\n",
       "    </tr>\n",
       "    <tr>\n",
       "      <th>83728</th>\n",
       "      <td>e0174bce737aa565</td>\n",
       "      <td>Thanks for image help</td>\n",
       "      <td>0</td>\n",
       "      <td>0</td>\n",
       "      <td>0</td>\n",
       "      <td>0</td>\n",
       "      <td>0</td>\n",
       "      <td>0</td>\n",
       "    </tr>\n",
       "  </tbody>\n",
       "</table>\n",
       "</div>"
      ],
      "text/plain": [
       "                     id  \\\n",
       "47604  7f2cab91dd44d597   \n",
       "98579  0f4f08ea91def8b0   \n",
       "51003  8867ee6de98787d6   \n",
       "96586  049474966a63c708   \n",
       "83728  e0174bce737aa565   \n",
       "\n",
       "                                                                                              comment_text  \\\n",
       "47604  \"\\n\\n   \\nMONGO, tell us. WHY DID YOU DO WTC? Why MONGO? MONGO, tell us. WHY DID YOU DO WTC? Why...   \n",
       "98579  Hillsong\\n\\nFirst of all, I have no idea who you are, pal. Probably some BOSSY person who thinks...   \n",
       "51003                                                 REDIRECT Talk:Georgia State Route 25 Spur (Woodbine)   \n",
       "96586  \"\\n\\nThe article states that \"\"Montenegrin and Serb identities are not exclusive\"\", but this is ...   \n",
       "83728                                                                                Thanks for image help   \n",
       "\n",
       "       toxic  severe_toxic  obscene  threat  insult  identity_hate  \n",
       "47604      1             0        0       0       0              0  \n",
       "98579      0             0        0       0       0              0  \n",
       "51003      0             0        0       0       0              0  \n",
       "96586      0             0        0       0       0              0  \n",
       "83728      0             0        0       0       0              0  "
      ]
     },
     "execution_count": 12,
     "metadata": {},
     "output_type": "execute_result"
    }
   ],
   "source": [
    "df.sample(5)"
   ]
  },
  {
   "cell_type": "markdown",
   "metadata": {},
   "source": [
    "There is six targets to be predicted: ['toxic', 'severe_toxic', 'obscene', 'threat', 'insult', 'identity_hate']\n",
    "\n",
    "We can create one multi-label-classification model or six binary-classification models."
   ]
  },
  {
   "cell_type": "code",
   "execution_count": 15,
   "metadata": {
    "execution": {
     "iopub.execute_input": "2022-01-19T10:17:25.185619Z",
     "iopub.status.busy": "2022-01-19T10:17:25.185319Z",
     "iopub.status.idle": "2022-01-19T10:17:25.194992Z",
     "shell.execute_reply": "2022-01-19T10:17:25.193842Z",
     "shell.execute_reply.started": "2022-01-19T10:17:25.185584Z"
    }
   },
   "outputs": [
    {
     "data": {
      "text/plain": [
       "0    144277\n",
       "1     15294\n",
       "Name: toxic, dtype: int64"
      ]
     },
     "execution_count": 15,
     "metadata": {},
     "output_type": "execute_result"
    }
   ],
   "source": [
    "df.toxic.value_counts()"
   ]
  },
  {
   "cell_type": "markdown",
   "metadata": {},
   "source": [
    "# Target analysis"
   ]
  },
  {
   "cell_type": "markdown",
   "metadata": {},
   "source": [
    "Here we will analyse the distribution of data on each target"
   ]
  },
  {
   "cell_type": "code",
   "execution_count": 16,
   "metadata": {
    "execution": {
     "iopub.execute_input": "2022-01-19T10:17:29.800829Z",
     "iopub.status.busy": "2022-01-19T10:17:29.800512Z",
     "iopub.status.idle": "2022-01-19T10:17:30.877189Z",
     "shell.execute_reply": "2022-01-19T10:17:30.876415Z",
     "shell.execute_reply.started": "2022-01-19T10:17:29.800792Z"
    }
   },
   "outputs": [
    {
     "data": {
      "image/png": "[encoded data removed]",
      "text/plain": [
       "<Figure size 1440x504 with 6 Axes>"
      ]
     },
     "metadata": {
      "needs_background": "light"
     },
     "output_type": "display_data"
    }
   ],
   "source": [
    "fig, axs = plt.subplots(2, 3, figsize=(20, 7))\n",
    "\n",
    "sns.histplot(data=df, x=\"toxic\", ax=axs[0, 0])\n",
    "sns.histplot(data=df, x=\"severe_toxic\",ax=axs[0, 1])\n",
    "sns.histplot(data=df, x=\"obscene\", ax=axs[0, 2])\n",
    "sns.histplot(data=df, x=\"threat\", ax=axs[1, 0])\n",
    "sns.histplot(data=df, x=\"insult\", ax=axs[1, 1])\n",
    "sns.histplot(data=df, x=\"identity_hate\", ax=axs[1, 2])\n",
    "\n",
    "plt.show()"
   ]
  },
  {
   "cell_type": "markdown",
   "metadata": {},
   "source": [
    "\n",
    "We observe that the positive values are very minor.\n",
    "\n",
    "Next, we will try to balance the data wrt the 'toxic target."
   ]
  },
  {
   "cell_type": "code",
   "execution_count": 17,
   "metadata": {
    "execution": {
     "iopub.execute_input": "2022-01-19T10:18:36.811573Z",
     "iopub.status.busy": "2022-01-19T10:18:36.810636Z",
     "iopub.status.idle": "2022-01-19T10:18:38.224701Z",
     "shell.execute_reply": "2022-01-19T10:18:38.223588Z",
     "shell.execute_reply.started": "2022-01-19T10:18:36.811526Z"
    }
   },
   "outputs": [
    {
     "data": {
      "image/png": "[encoded data removed]",
      "text/plain": [
       "<Figure size 1440x504 with 6 Axes>"
      ]
     },
     "metadata": {
      "needs_background": "light"
     },
     "output_type": "display_data"
    }
   ],
   "source": [
    "df0=pd.concat([df[(df.toxic==1)],\n",
    "              df[(df.toxic==0)].sample(15294)\n",
    "             ])\n",
    "\n",
    "fig, axs = plt.subplots(2, 3, figsize=(20, 7))\n",
    "\n",
    "sns.histplot(data=df0, x=\"toxic\", ax=axs[0, 0])\n",
    "sns.histplot(data=df0, x=\"severe_toxic\",ax=axs[0, 1])\n",
    "sns.histplot(data=df0, x=\"obscene\", ax=axs[0, 2])\n",
    "sns.histplot(data=df0, x=\"threat\", ax=axs[1, 0])\n",
    "sns.histplot(data=df0, x=\"insult\", ax=axs[1, 1])\n",
    "sns.histplot(data=df0, x=\"identity_hate\", ax=axs[1, 2])\n",
    "\n",
    "plt.show()"
   ]
  },
  {
   "cell_type": "markdown",
   "metadata": {},
   "source": [
    "Even if the data is balanced wrt 'toxic' target, but still imbalanced in all the other targets.\n",
    "\n",
    "We can perform multi balancing on all the targets but we will have less data.\n",
    "\n",
    "This problem can affect the multi-label-classifier performance, so we will create a separate binary model for each target."
   ]
  },
  {
   "cell_type": "markdown",
   "metadata": {},
   "source": [
    "## Text analysis"
   ]
  },
  {
   "cell_type": "markdown",
   "metadata": {},
   "source": [
    "We will count the number of tokens and plot the histogram of the comment lengths."
   ]
  },
  {
   "cell_type": "code",
   "execution_count": 20,
   "metadata": {
    "execution": {
     "iopub.execute_input": "2022-01-19T10:22:58.977446Z",
     "iopub.status.busy": "2022-01-19T10:22:58.977177Z",
     "iopub.status.idle": "2022-01-19T10:24:47.508352Z",
     "shell.execute_reply": "2022-01-19T10:24:47.507521Z",
     "shell.execute_reply.started": "2022-01-19T10:22:58.977416Z"
    }
   },
   "outputs": [
    {
     "data": {
      "text/plain": [
       "<AxesSubplot:xlabel='len_tokenized_sents', ylabel='Count'>"
      ]
     },
     "execution_count": 20,
     "metadata": {},
     "output_type": "execute_result"
    },
    {
     "data": {
      "image/png": "[encoded data removed]",
      "text/plain": [
       "<Figure size 432x288 with 1 Axes>"
      ]
     },
     "metadata": {
      "needs_background": "light"
     },
     "output_type": "display_data"
    }
   ],
   "source": [
    "from nltk import word_tokenize\n",
    "\n",
    "df['len_tokenized_sents'] = df.apply(lambda row: len(word_tokenize(row['comment_text'])), axis=1)\n",
    "sns.histplot(data=df, x=\"len_tokenized_sents\")"
   ]
  },
  {
   "cell_type": "code",
   "execution_count": 22,
   "metadata": {
    "execution": {
     "iopub.execute_input": "2022-01-19T10:26:12.607434Z",
     "iopub.status.busy": "2022-01-19T10:26:12.606444Z",
     "iopub.status.idle": "2022-01-19T10:26:12.613932Z",
     "shell.execute_reply": "2022-01-19T10:26:12.613233Z",
     "shell.execute_reply.started": "2022-01-19T10:26:12.607381Z"
    }
   },
   "outputs": [
    {
     "data": {
      "text/plain": [
       "'YOU!\\nYou blocked me worm why!!!!!!!!!!!!!!!!!!!!!!!!!!!!!!!!!!!!!!!!!!!!!!!!!!!!!!!!!!!!!!!!!!!!!!!!!!!!!!!!!!!!!!!!!!!!!!!!!!!!!!!!!!!!!!!!!!!!!!!!!!!!!!!!!!!!!!!!!!!!!!!!!!!!!!!!!!!!!!!!!!!!!!!!!!!!!!!!!!!!!!!!!!!!!!!!!!!!!!!!!!!!!!!!!!!!!!!!!!!!!!!!!!!!!!!!!!!!!!!!!!!!!!!!!!!!!!!!!!!!!!!!!!!!!!!!!!!!!!!!!!!!!!!!!!!!!!!!!!!!!!!!!!!!!!!!!!!!!!!!!!!!!!!!!!!!!!!!!!!!!!!!!!!!!!!!!!!!!!!!!!!!!!!!!!!!!!!!!!!!!!!!!!!!!!!!!!!!!!!!!!!!!!!!!!!!!!!!!!!!!!!!!!!!!!!!!!!!!!!!!!!!!!!!!!!!!!!!!!!!!!!!!!!!!!!!!!!!!!!!!!!!!!!!!!!!!!!!!!!!!!!!!!!!!!!!!!!!!!!!!!!!!!!!!!!!!!!!!!!!!!!!!!!!!!!!!!!!!!!!!!!!!!!!!!!!!!!!!!!!!!!!!!!!!!!!!!!!!!!!!!!!!!!!!!!!!!!!!!!!!!!!!!!!!!!!!!!!!!!!!!!!!!!!!!!!!!!!!!!!!!!!!!!!!!!!!!!!!!!!!!!!!!!!!!!!!!!!!!!!!!!!!!!!!!!!!!!!!!!!!!!!!!!!!!!!!!!!!!!!!!!!!!!!!!!!!!!!!!!!!!!!!!!!!!!!!!!!!!!!!!!!!!!!!!!!!!!!!!!!!!!!!!!!!!!!!!!!!!!!!!!!!!!!!!!!!!!!!!!!!!!!!!!!!!!!!!!!!!!!!!!!!!!!!!!!!!!!!!!!!!!!!!!!!!!!!!!!!!!!!!!!!!!!!!!!!!!!!!!!!!!!!!!!!!!!!!!!!!!!!!!!!!!!!!!!!!!!!!!!!!!!!!!!!!!!!!!!!!!!!!!!!!!!!!!!!!!!!!!!!!!!!!!!!!!!!!!!!!!!!!!!!!!!!!!!!!!!!!!!!!!!!!!!!!!!!!!!!!!!!!!!!!!!!!!!!!!!!!!!!!!!!!!!!!!!!!!!!!!!!!!!!!!!!!!!!!!!!!!!!!!!!!!!!!!!!!!!!!!!!!!!!!!!!!!!!!!!!!!!!!!!!!!!!!!!!!!!!!!!!!!!!!!!!!!!!!!!!!!!!!!!!!!!!!!!!!!!!!!!!!!!!!!!!!!!!!!!!!!!!!!!!!!!!!!!!!!!!!!!!!!!!!!!!!!!!!!!!!!!!!!!!!!!!!!!!!!!!!!!!!!!!!!!!!!!!!!!!!!!!!!!!!!!!!!!!!!!!!!!!!!!!!!!!!!!!!!!!!!!!!!!!!!!!!!!!!!!!!!!!!!!!!!!!!!!!!!!!!!!!!!!!!!!!!!!!!!!!!!!!!!!!!!!!!!!!!!!!!!!!!!!!!!!!!!!!!!!!!!!!!!!!!!!!!!!!!!!!!!!!!!!!!!!!!!!!!!!!!!!!!!!!!!!!!!!!!!!!!!!!!!!!!!!!!!!!!!!!!!!!!!!!!!!!!!!!!!!!!!!!!!!!!!!!!!!!!!!!!!!!!!!!!!!!!!!!!!!!!!!!!!!!!!!!!!!!!!!!!!!!!!!!!!!!!!!!!!!!!!!!!!!!!!!!!!!!!!!!!!!!!!!!!!!!!!!!!!!!!!!!!!!!!!!!!!!!!!!!!!!!!!!!!!!!!!!!!!!!!!!!!!!!!!!!!!!!!!!!!!!!!!!!!!!!!!!!!!!!!!!!!!!!!!!!!!!!!!!!!!!!!!!!!!!!!!!!!!!!!!!!!!!!!!!!!!!!!!!!!!!!!!!!!!!!!!!!!!!!!!!!!!!!!!!!!!!!!!!!!!!!!!!!!!!!!!!!!!!!!!!!!!!!!!!!!!!!!!!!!!!!!!!!!!!!!!!!!!!!!!!!!!!!!!!!!!!!!!!!!!!!!!!!!!!!!!!!!!!!!!!!!!!!!!!!!!!!!!!!!!!!!!!!!!!!!!!!!!!!!!!!!!!!!!!!!!!!!!!!!!!!!!!!!!!!!!!!!!!!!!!!!!!!!!!!!!!!!!!!!!!!!!!!!!!!!!!!!!!!!!!!!!!!!!!!!!!!!!!!!!!!!!!!!!!!!!!!!!!!!!!!!!!!!!!!!!!!!!!!!!!!!!!!!!!!!!!!!!!!!!!!!!!!!!!!!!!!!!!!!!!!!!!!!!!!!!!!!!!!!!!!!!!!!!!!!!!!!!!!!!!!!!!!!!!!!!!!!!!!!!!!!!!!!!!!!!!!!!!!!!!!!!!!!!!!!!!!!!!!!!!!!!!!!!!!!!!!!!!!!!!!!!!!!!!!!!!!!!!!!!!!!!!!!!!!!!!!!!!!!!!!!!!!!!!!!!!!!!!!!!!!!!!!!!!!!!!!!!!!!!!!!!!!!!!!!!!!!!!!!!!!!!!!!!!!!!!!!!!!!!!!!!!!!!!!!!!!!!\\n!!!!!!!!!!!!!!!!!!!!!!!!!!!!!!!!!!!!!!!!!!!!!!!!!!!!!!!!!!!!!!!!!!!!!!!!!!!!!!!!!!!!!!!!!!!!!!!!!!!!!!!!!!!!!!!!!!!!!!!!!!!!!!!!!!!!!!!!!!!!!!!!!!!!!!!!!!!!!!!!!!!!!!!!!!!!!!!!!!!!!!!!!!!!!!!!!!!!!!!!!!!!!!!!!!!!!!!!!!!!!!!!!!!!!!!!!!!!!!!!!!!!!!!!!!!!!!!!!!!!!!!!!!!!!!!!!!!!!!!!!!!!!!!!!!!!!!!!!!!!!!!!!!!!!!!!!!!!!!!!!!!!!!!!!!!!!!!!!!!!!!!!!!!!!!!!!!!!!!!!!!!!!!!!!!!!!!!!!!!!!!!!!!!!!!!!!!!!!!!!!!!!!!!!!!!!!!!!!!!!!!!!!!!!!!!!!!!!!!!!!!!!!!!!!!!!!!!!!!!!!!!!!!!!!!!!!!!!!!!!!!!!!!!!!!!!!!!!!!!!!!!!!!!!!!!!!!!!!!!!!!!!!!!!!!!!!!!!!!!!!!!!!!!!!!!!!!!!!!!!!!!!!!!!!!!!!!!!!!!!!!!!!!!!!!!!!!!!!!!!!!!!!!!!!!!!!!!!!!!!!!!!!!!!!!!!!!!!!!!!!!!!!!!!!!!!!!!!!!!!!!!!!!!!!!!!!!!!!!!!!!!!!!!!!!!!!!!!!!!!!!!!!!!!!!!!!!!!!!!!!!!!!!!!!!!!!!!!!!!!!!!!!!!!!!!!!!!!!!!!!!!!!!!!!!!!!!!!!!!!!!!!!!!!!!!!!!!!!!!!!!!!!!!!!!!!!!!!!!!!!!!!!!!!!!!!!!!!!!!!!!!!!!!!!!!!!!!!!!!!!!!!!!!!!!!!!!!!!!!!!!!!!!!!!!!!!!!!!!!!!!!!!!!!!!!!!!!!!!!!!!!!!!!!!!!!!!!!!!!!!!!!!!!!!!!!!!!!!!!!!!!!!!!!!!!!!!!!!!!!!!!!!!!!!!!!!!!!!!!!!!!!!!!!!!!!!!!!!!!!!!!!!!!!!!!!!!!!!!!!!!!!!!!!!!!!!!!!!!!!!!!!!!!!!!!!!!!!!!!!!!!!!!!!!!!!!!!!!!!!!!!!!!!!!!!!!!!!!!!!!!!!!!!!!!!!!!!!!!!!!!!!!!!!!!!!!!!!!!!!!!!!!!!!!!!!!!!!!!!!!!!!!!!!!!!!!!!!!!!!!!!!!!!!!!!!!!!!!!!!!!!!!!!!!!!!!!!!!!!!!!!!!!!!!!!!!!!!!!!!!!!!!!!!!!!!!!!!!!!!!!!!!!!!!!!!!!!!!!!!!!!!!!!!!!!!!!!!!!!!!!!!!!!!!!!!!!!!!!!!!!!!!!!!!!!!!!!!!!!!!!!!!!!!!!!!!!!!!!!!!!!!!!!!!!!!!!!!!!!!!!!!!!!!!!!!!!!!!!!!!!!!!!!!!!!!!!!!!!!!!!!!!!!!!!!!!!!!!!!!!!!!!!!!!!!!!!!!!!!!!!!!!!!!!!!!!!!!!!!!!!!!!!!!!!!!!!!!!!!!!!!!!!!!!!!!!!!!!!!!!!!!!!!!!!!!!!!!!!!!!!!!!!!!!!!!!!!!!!!!!!!!!!!!!!!!!!!!!!!!!!!!!!!!!!!!!!!!!!!!!!!!!!!!!!!!!!!!!!!!!!!!!!!!!!!!!!!!!!!!!!!!!!!!!!!!!!!!!!!!!!!!!!!!!!!!!!!!!!!!!!!!!!!!!!!!!!!!!!!!!!!!!!!!!!!!!!!!!!!!!!!!!!!!!!!!!!!!!!!!!!!!!!!!!!!!!!!!!!!!!!!!!!!!!!!!!!!!!!!!!!!!!!!!!!!!!!!!!!!!!!!!!!!!!!!!!!!!!!!!!!!!!!!!!!!!!!!!!!!!!!!!!!!!!!!!!!!!!!!!!!!!!!!!!!!!!!!!!!!!!!!!!!!!!!!!!!!!!!!!!!!!!!!!!!!!!!!!!!!!!!!!!!!!!!!!!!!!!!!!!!!!!!!!!!!!!!!!!!!!!!!!!!!!!!!!!!!!!!!!!!!!!!!!!!!!!!!!!!!!!!!!!!!!!!!!!!!!!!!!!!!!!!!!!!!!!!!!!!!!!!!!!!!!!!!!!!!!!!!!!!!!!!!!!!!!!!!!!!!!!!!!!!!!!!!!!!!!!!!!!!!!!!!!!!!!!!!!!!!!!!!!!!!!!!!!!!!!!!!!!!!!!!!!!!!!!!!!!!!!!!!!!!!!!!!!!!!!!!!!!!!!!!!!!!!!!!!!!!!!!!!!!!!!!!!!!!!!!!!!!!!!!!!!!!!!!!!!!!!!!!!!!!!!!!!!!!!!!!!!!!!!!!!!!!!!!!!!!!!!!!!!!!!!!!!!!!!!!!!!!!!!!!!!!!!!!!!!!!!!!!!!!!!!!!!!!!!!!!!!!!!!!!!!!!!!!!!!!!!!!!!!!!!!!!!!!!!!!!!!!!!!!!!!!!!!!!!!!!!!!!!!!!!!!!!!!!!!!!!!!!!!!!!!!!!!!!!!!!!!!!!!!!!!!!!!!!!!!!!!!!!!!!!!!!!!!!!!!!!!!!!!!!'"
      ]
     },
     "execution_count": 22,
     "metadata": {},
     "output_type": "execute_result"
    }
   ],
   "source": [
    "df[\"comment_text\"][np.argmax(df['len_tokenized_sents'])]"
   ]
  },
  {
   "cell_type": "markdown",
   "metadata": {},
   "source": [
    "on comment in this data can achieve 5000 tokens, the comment above is one example. So those comment texts needs to be processed."
   ]
  },
  {
   "cell_type": "markdown",
   "metadata": {},
   "source": [
    "# Text preprocessing"
   ]
  },
  {
   "cell_type": "markdown",
   "metadata": {},
   "source": [
    "We summerise the text processing in the following:\n",
    "* Removing non informative texts (links, html tags, emoticons ...)\n",
    "* Remove special characters\n",
    "* Remove extra spaces\n",
    "* separate between words with space\n",
    "* Replace the abreviated sentences with the complete sentences"
   ]
  },
  {
   "cell_type": "code",
   "execution_count": 4,
   "metadata": {
    "execution": {
     "iopub.execute_input": "2022-01-19T11:59:07.121148Z",
     "iopub.status.busy": "2022-01-19T11:59:07.120876Z",
     "iopub.status.idle": "2022-01-19T11:59:07.177788Z",
     "shell.execute_reply": "2022-01-19T11:59:07.176824Z",
     "shell.execute_reply.started": "2022-01-19T11:59:07.121116Z"
    }
   },
   "outputs": [],
   "source": [
    "def text_cleaning(text):\n",
    "    template = re.compile(r'https?://\\S+|www\\.\\S+') #Removes website links\n",
    "    text = template.sub(r'', text)\n",
    "\n",
    "    soup = BeautifulSoup(text, 'lxml') #Removes HTML tags\n",
    "    only_text = soup.get_text()\n",
    "    text = only_text\n",
    "\n",
    "    emoji_pattern = re.compile(\"[\"\n",
    "                               u\"\\U0001F600-\\U0001F64F\"  # emoticons\n",
    "                               u\"\\U0001F300-\\U0001F5FF\"  # symbols & pictographs\n",
    "                               u\"\\U0001F680-\\U0001F6FF\"  # transport & map symbols\n",
    "                               u\"\\U0001F1E0-\\U0001F1FF\"  # flags (iOS)\n",
    "                               u\"\\U00002702-\\U000027B0\"\n",
    "                               u\"\\U000024C2-\\U0001F251\"\n",
    "                               \"]+\", flags=re.UNICODE)\n",
    "    text = emoji_pattern.sub(r'', text)\n",
    "\n",
    "    text = re.sub(r\"[^a-zA-Z\\d]\", \" \", text) #Remove special Charecters\n",
    "    text = re.sub(' +', ' ', text) #Remove Extra Spaces\n",
    "    text = text.strip() # remove spaces at the beginning and at the end of string\n",
    "\n",
    "    return text\n",
    "\n",
    "\n",
    "def clean(data, col):\n",
    "    \n",
    "    data[col] = data[col].str.replace('https?://\\S+|www\\.\\S+', ' social medium ', regex=True)      \n",
    "        \n",
    "    data[col] = data[col].str.lower()\n",
    "    data[col] = data[col].str.replace(\"4\", \"a\") \n",
    "    data[col] = data[col].str.replace(\"2\", \"l\")\n",
    "    data[col] = data[col].str.replace(\"5\", \"s\") \n",
    "    data[col] = data[col].str.replace(\"1\", \"i\") \n",
    "    data[col] = data[col].str.replace(\"!\", \"i\") \n",
    "    data[col] = data[col].str.replace(\"|\", \"i\", regex=False) \n",
    "    data[col] = data[col].str.replace(\"0\", \"o\") \n",
    "    data[col] = data[col].str.replace(\"l3\", \"b\") \n",
    "    data[col] = data[col].str.replace(\"7\", \"t\") \n",
    "    data[col] = data[col].str.replace(\"7\", \"+\") \n",
    "    data[col] = data[col].str.replace(\"8\", \"ate\") \n",
    "    data[col] = data[col].str.replace(\"3\", \"e\") \n",
    "    data[col] = data[col].str.replace(\"9\", \"g\")\n",
    "    data[col] = data[col].str.replace(\"6\", \"g\")\n",
    "    data[col] = data[col].str.replace(\"@\", \"a\")\n",
    "    data[col] = data[col].str.replace(\"$\", \"s\", regex=False)\n",
    "    data[col] = data[col].str.replace(\"#ofc\", \" of fuckin course \")\n",
    "    data[col] = data[col].str.replace(\"fggt\", \" faggot \")\n",
    "    data[col] = data[col].str.replace(\"your\", \" your \")\n",
    "    data[col] = data[col].str.replace(\"self\", \" self \")\n",
    "    data[col] = data[col].str.replace(\"cuntbag\", \" cunt bag \")\n",
    "    data[col] = data[col].str.replace(\"fartchina\", \" fart china \")    \n",
    "    data[col] = data[col].str.replace(\"youi\", \" you i \")\n",
    "    data[col] = data[col].str.replace(\"cunti\", \" cunt i \")\n",
    "    data[col] = data[col].str.replace(\"sucki\", \" suck i \")\n",
    "    data[col] = data[col].str.replace(\"pagedelete\", \" page delete \")\n",
    "    data[col] = data[col].str.replace(\"cuntsi\", \" cuntsi \")\n",
    "    data[col] = data[col].str.replace(\"i'm\", \" i am \")\n",
    "    data[col] = data[col].str.replace(\"offuck\", \" of fuck \")\n",
    "    data[col] = data[col].str.replace(\"centraliststupid\", \" central ist stupid \")\n",
    "    data[col] = data[col].str.replace(\"hitleri\", \" hitler i \")\n",
    "    data[col] = data[col].str.replace(\"i've\", \" i have \")\n",
    "    data[col] = data[col].str.replace(\"i'll\", \" sick \")\n",
    "    data[col] = data[col].str.replace(\"fuck\", \" fuck \")\n",
    "    data[col] = data[col].str.replace(\"f u c k\", \" fuck \")\n",
    "    data[col] = data[col].str.replace(\"shit\", \" shit \")\n",
    "    data[col] = data[col].str.replace(\"bunksteve\", \" bunk steve \")\n",
    "    data[col] = data[col].str.replace('wikipedia', ' social medium ')\n",
    "    data[col] = data[col].str.replace(\"faggot\", \" faggot \")\n",
    "    data[col] = data[col].str.replace(\"delanoy\", \" delanoy \")\n",
    "    data[col] = data[col].str.replace(\"jewish\", \" jewish \")\n",
    "    data[col] = data[col].str.replace(\"sexsex\", \" sex \")\n",
    "    data[col] = data[col].str.replace(\"allii\", \" all ii \")\n",
    "    data[col] = data[col].str.replace(\"i'd\", \" i had \")\n",
    "    data[col] = data[col].str.replace(\"'s\", \" is \")\n",
    "    data[col] = data[col].str.replace(\"youbollocks\", \" you bollocks \")\n",
    "    data[col] = data[col].str.replace(\"dick\", \" dick \")\n",
    "    data[col] = data[col].str.replace(\"cuntsi\", \" cuntsi \")\n",
    "    data[col] = data[col].str.replace(\"mothjer\", \" mother \")\n",
    "    data[col] = data[col].str.replace(\"cuntfranks\", \" cunt \")\n",
    "    data[col] = data[col].str.replace(\"ullmann\", \" jewish \")\n",
    "    data[col] = data[col].str.replace(\"mr.\", \" mister \", regex=False)\n",
    "    data[col] = data[col].str.replace(\"aidsaids\", \" aids \")\n",
    "    data[col] = data[col].str.replace(\"njgw\", \" nigger \")\n",
    "    data[col] = data[col].str.replace(\"wiki\", \" social medium \")\n",
    "    data[col] = data[col].str.replace(\"administrator\", \" admin \")\n",
    "    data[col] = data[col].str.replace(\"gamaliel\", \" jewish \")\n",
    "    data[col] = data[col].str.replace(\"rvv\", \" vanadalism \")\n",
    "    data[col] = data[col].str.replace(\"admins\", \" admin \")\n",
    "    data[col] = data[col].str.replace(\"pensnsnniensnsn\", \" penis \")\n",
    "    data[col] = data[col].str.replace(\"pneis\", \" penis \")\n",
    "    data[col] = data[col].str.replace(\"pennnis\", \" penis \")\n",
    "    data[col] = data[col].str.replace(\"pov.\", \" point of view \", regex=False)\n",
    "    data[col] = data[col].str.replace(\"vandalising\", \" vandalism \")\n",
    "    data[col] = data[col].str.replace(\"cock\", \" dick \")\n",
    "    data[col] = data[col].str.replace(\"asshole\", \" asshole \")\n",
    "    data[col] = data[col].str.replace(\"youi\", \" you \")\n",
    "    data[col] = data[col].str.replace(\"afd\", \" all fucking day \")\n",
    "    data[col] = data[col].str.replace(\"sockpuppets\", \" sockpuppetry \")\n",
    "    data[col] = data[col].str.replace(\"iiprick\", \" iprick \")\n",
    "    data[col] = data[col].str.replace(\"penisi\", \" penis \")\n",
    "    data[col] = data[col].str.replace(\"warrior\", \" warrior \")\n",
    "    data[col] = data[col].str.replace(\"loil\", \" laughing out insanely loud \")\n",
    "    data[col] = data[col].str.replace(\"vandalise\", \" vanadalism \")\n",
    "    data[col] = data[col].str.replace(\"helli\", \" helli \")\n",
    "    data[col] = data[col].str.replace(\"lunchablesi\", \" lunchablesi \")\n",
    "    data[col] = data[col].str.replace(\"special\", \" special \")\n",
    "    data[col] = data[col].str.replace(\"ilol\", \" i lol \")\n",
    "    data[col] = data[col].str.replace(r'\\b[uU]\\b', 'you', regex=True)\n",
    "    data[col] = data[col].str.replace(r\"what's\", \"what is \")\n",
    "    data[col] = data[col].str.replace(r\"\\'s\", \" is \", regex=False)\n",
    "    data[col] = data[col].str.replace(r\"\\'ve\", \" have \", regex=False)\n",
    "    data[col] = data[col].str.replace(r\"can't\", \"cannot \")\n",
    "    data[col] = data[col].str.replace(r\"n't\", \" not \")\n",
    "    data[col] = data[col].str.replace(r\"i'm\", \"i am \")\n",
    "    data[col] = data[col].str.replace(r\"\\'re\", \" are \", regex=False)\n",
    "    data[col] = data[col].str.replace(r\"\\'d\", \" would \", regex=False)\n",
    "    data[col] = data[col].str.replace(r\"\\'ll\", \" will \", regex=False)\n",
    "    data[col] = data[col].str.replace(r\"\\'scuse\", \" excuse \", regex=False)\n",
    "    data[col] = data[col].str.replace('\\s+', ' ', regex=True)  # will remove more than one whitespace character\n",
    "#     text = re.sub(r'\\b([^\\W\\d_]+)(\\s+\\1)+\\b', r'\\1', re.sub(r'\\W+', ' ', text).strip(), flags=re.I)  # remove repeating words coming immediately one after another\n",
    "    data[col] = data[col].str.replace(r'(.)\\1+', r'\\1\\1', regex=True) # 2 or more characters are replaced by 2 characters\n",
    "#     text = re.sub(r'((\\b\\w+\\b.{1,2}\\w+\\b)+).+\\1', r'\\1', text, flags = re.I)\n",
    "    data[col] = data[col].str.replace(\"[:|♣|'|§|♠|*|/|?|=|%|&|-|#|•|~|^|>|<|►|_]\", '', regex=True)\n",
    "    \n",
    "    \n",
    "    data[col] = data[col].str.replace(r\"what's\", \"what is \")    \n",
    "    data[col] = data[col].str.replace(r\"\\'ve\", \" have \", regex=False)\n",
    "    data[col] = data[col].str.replace(r\"can't\", \"cannot \")\n",
    "    data[col] = data[col].str.replace(r\"n't\", \" not \", regex=False)\n",
    "    data[col] = data[col].str.replace(r\"i'm\", \"i am \", regex=False)\n",
    "    data[col] = data[col].str.replace(r\"\\'re\", \" are \", regex=False)\n",
    "    data[col] = data[col].str.replace(r\"\\'d\", \" would \", regex=False)\n",
    "    data[col] = data[col].str.replace(r\"\\'ll\", \" will \", regex=False)\n",
    "    data[col] = data[col].str.replace(r\"\\'scuse\", \" excuse \", regex=False)\n",
    "    data[col] = data[col].str.replace(r\"\\'s\", \" \", regex=False)\n",
    "\n",
    "    # Clean some punctutations\n",
    "    data[col] = data[col].str.replace('\\n', ' \\n ')\n",
    "    data[col] = data[col].str.replace(r'([a-zA-Z]+)([/!?.])([a-zA-Z]+)',r'\\1 \\2 \\3', regex=True)\n",
    "    # Replace repeating characters more than 3 times to length of 3\n",
    "    data[col] = data[col].str.replace(r'([*!?\\'])\\1\\1{2,}',r'\\1\\1\\1', regex=True)    \n",
    "    # Add space around repeating characters\n",
    "    data[col] = data[col].str.replace(r'([*!?\\']+)',r' \\1 ', regex=True)    \n",
    "    # patterns with repeating characters \n",
    "    data[col] = data[col].str.replace(r'([a-zA-Z])\\1{2,}\\b',r'\\1\\1', regex=True)\n",
    "    data[col] = data[col].str.replace(r'([a-zA-Z])\\1\\1{2,}\\B',r'\\1\\1\\1', regex=True)\n",
    "    data[col] = data[col].str.replace(r'[ ]{2,}',' ', regex=True).str.strip()   \n",
    "    data[col] = data[col].str.replace(r'[ ]{2,}',' ', regex=True).str.strip()   \n",
    "    tqdm.pandas()\n",
    "    data[col] = data[col].progress_apply(text_cleaning)\n",
    "    data[col] = data[col].apply(lambda x: x.lower())\n",
    "    return data"
   ]
  },
  {
   "cell_type": "code",
   "execution_count": 5,
   "metadata": {
    "execution": {
     "iopub.execute_input": "2022-01-19T11:59:17.263405Z",
     "iopub.status.busy": "2022-01-19T11:59:17.262766Z",
     "iopub.status.idle": "2022-01-19T12:01:35.575810Z",
     "shell.execute_reply": "2022-01-19T12:01:35.575045Z",
     "shell.execute_reply.started": "2022-01-19T11:59:17.263362Z"
    }
   },
   "outputs": [
    {
     "data": {
      "application/vnd.jupyter.widget-view+json": {
       "model_id": "f6c8ef40e0a24ba0bda4add3158a0c62",
       "version_major": 2,
       "version_minor": 0
      },
      "text/plain": [
       "  0%|          | 0/159571 [00:00<?, ?it/s]"
      ]
     },
     "metadata": {},
     "output_type": "display_data"
    }
   ],
   "source": [
    "#test_df=clean(test_df,'text')\n",
    "df=clean(df, 'comment_text')"
   ]
  },
  {
   "cell_type": "code",
   "execution_count": 25,
   "metadata": {
    "execution": {
     "iopub.execute_input": "2022-01-19T10:33:20.373950Z",
     "iopub.status.busy": "2022-01-19T10:33:20.372975Z",
     "iopub.status.idle": "2022-01-19T10:34:14.971637Z",
     "shell.execute_reply": "2022-01-19T10:34:14.970660Z",
     "shell.execute_reply.started": "2022-01-19T10:33:20.373897Z"
    }
   },
   "outputs": [
    {
     "data": {
      "text/plain": [
       "<AxesSubplot:xlabel='len_tokenized_sents', ylabel='Count'>"
      ]
     },
     "execution_count": 25,
     "metadata": {},
     "output_type": "execute_result"
    },
    {
     "data": {
      "image/png": "[encoded data removed]",
      "text/plain": [
       "<Figure size 432x288 with 1 Axes>"
      ]
     },
     "metadata": {
      "needs_background": "light"
     },
     "output_type": "display_data"
    }
   ],
   "source": [
    "df['len_tokenized_sents'] = df.apply(lambda row: len(word_tokenize(row['comment_text'])), axis=1)\n",
    "sns.histplot(data=df, x=\"len_tokenized_sents\")"
   ]
  },
  {
   "cell_type": "code",
   "execution_count": 26,
   "metadata": {
    "execution": {
     "iopub.execute_input": "2022-01-19T10:34:43.969524Z",
     "iopub.status.busy": "2022-01-19T10:34:43.969244Z",
     "iopub.status.idle": "2022-01-19T10:34:43.976260Z",
     "shell.execute_reply": "2022-01-19T10:34:43.975414Z",
     "shell.execute_reply.started": "2022-01-19T10:34:43.969494Z"
    },
    "jupyter": {
     "outputs_hidden": true
    },
    "scrolled": true
   },
   "outputs": [
    {
     "data": {
      "text/plain": [
       "'fuck you i fuck you i fuck you i fuck you i fuck you i fuck you i fuck you i fuck you i fuck you i fuck you i fuck you i fuck you i fuck you i fuck you i fuck you i fuck you i fuck you i fuck you i fuck you i fuck you i fuck you i fuck you i fuck you i fuck you i fuck you i fuck you i fuck you i fuck you i fuck you i fuck you i fuck you i fuck you i fuck you i fuck you i fuck you i fuck you i fuck you i fuck you i fuck you i fuck you i fuck you i fuck you i fuck you i fuck you i fuck you i fuck you i fuck you i fuck you i fuck you i fuck you i fuck you i fuck you i fuck you i fuck you i fuck you i fuck you i fuck you i fuck you i fuck you i fuck you i fuck you i fuck you i fuck you i fuck you i fuck you i fuck you i fuck you i fuck you i fuck you i fuck you i fuck you i fuck you i fuck you i fuck you i fuck you i fuck you i fuck you i fuck you i fuck you i fuck you i fuck you i fuck you i fuck you i fuck you i fuck you i fuck you i fuck you i fuck you i fuck you i fuck you i fuck you i fuck you i fuck you i fuck you i fuck you i fuck you i fuck you i fuck you i fuck you i fuck you i fuck you i fuck you i fuck you i fuck you i fuck you i fuck you i fuck you i fuck you i fuck you i fuck you i fuck you i fuck you i fuck you i fuck you i fuck you i fuck you i fuck you i fuck you i fuck you i fuck you i fuck you i fuck you i fuck you i fuck you i fuck you i fuck you i fuck you i fuck you i fuck you i fuck you i fuck you i fuck you i fuck you i fuck you i fuck you i fuck you i fuck you i fuck you i fuck you i fuck you i fuck you i fuck you i fuck you i fuck you i fuck you i fuck you i fuck you i fuck you i fuck you i fuck you i fuck you i fuck you i fuck you i fuck you i fuck you i fuck you i fuck you i fuck you i fuck you i fuck you i fuck you i fuck you i fuck you i fuck you i fuck you i fuck you i fuck you i fuck you i fuck you i fuck you i fuck you i fuck you i fuck you i fuck you i fuck you i fuck you i fuck you i fuck you i fuck you i fuck you i fuck you i fuck you i fuck you i fuck you i fuck you i fuck you i fuck you i fuck you i fuck you i fuck you i fuck you i fuck you i fuck you i fuck you i fuck you i fuck you i fuck you i fuck you i fuck you i fuck you i fuck you i fuck you i fuck you i fuck you i fuck you i fuck you i fuck you i fuck you i fuck you i fuck you i fuck you i fuck you i fuck you i fuck you i fuck you i fuck you i fuck you i fuck you i fuck you i fuck you i fuck you i fuck you i fuck you i fuck you i fuck you i fuck you i fuck you i fuck you i fuck you i fuck you i fuck you i fuck you i fuck you i fuck you i fuck you i fuck you i fuck you i fuck you i fuck you i fuck you i fuck you i fuck you i fuck you i fuck you i fuck you i fuck you i fuck you i fuck you i fuck you i fuck you i fuck you i fuck you i fuck you i fuck you i fuck you i fuck you i fuck you i fuck you i fuck you i fuck you i fuck you i fuck you i fuck you i fuck you i fuck you i fuck you i fuck you i fuck you i fuck you i fuck you i fuck you i fuck you i fuck you i fuck you i fuck you i fuck you i fuck you i fuck you i fuck you i fuck you i fuck you i fuck you i fuck you i fuck you i fuck you i fuck you i fuck you i fuck you i fuck you i fuck you i fuck you i fuck you i fuck you i fuck you i fuck you i fuck you i fuck you i fuck you i fuck you i fuck you i fuck you i fuck you i fuck you i fuck you i fuck you i fuck you i fuck you i fuck you i fuck you i fuck you i fuck you i fuck you i fuck you i fuck you i fuck you i fuck you i fuck you i fuck you i fuck you i fuck you i fuck you i fuck you i fuck you i fuck you i fuck you i fuck you i fuck you i fuck you i fuck you i fuck you i fuck you i fuck you i fuck you i fuck you i fuck you i fuck you i fuck you i fuck you i fuck you i fuck you i fuck you i fuck you i fuck you i fuck you i fuck you i fuck you i fuck you i fuck you i fuck you i fuck you i fuck you i fuck you i fuck you i fuck you i fuck you i fuck you i fuck you i fuck you i fuck you i fuck you i fuck you i fuck you i fuck you i fuck you i fuck you i fuck you i fuck you i fuck you i fuck you i fuck you i fuck you i fuck you i fuck you i fuck you i fuck you i fuck you i fuck you i fuck you i fuck you i fuck you i fuck you i fuck you i fuck you i fuck you i fuck you i fuck you i fuck you i fuck you i fuck you i fuck you i fuck you i fuck you i fuck you i fuck you i fuck you i fuck you i fuck you i fuck you i fuck you i fuck you i fuck you i fuck you i fuck you i fuck you i fuck you i fuck you i fuck you i fuck you i fuck you i fuck you i fuck you i fuck you i fuck you i fuck you i fuck you i fuck you i fuck you i fuck you i fuck you i fuck you i fuck you i fuck you i fuck you i fuck you i fuck you i fuck you i fuck you i fuck you i fuck you i fuck you i fuck you i fuck you i fuck you i fuck you i fuck you i fuck you i fuck you i fuck you i fuck you i fuck you i fuck you i fuck you i fuck you i fuck you i fuck you i fuck you i fuck you i fuck you i fuck you i fuck you i fuck you i fuck you i fuck you i fuck you i fuck you i fuck you i fuck you i fuck you i fuck you i fuck you i fuck you i fuck you i fuck you i fuck you i fuck you i fuck you i fuck you i fuck you i fuck you i fuck you i fuck you i fuck you i fuck you i fuck you i fuck you i fuck you i fuck you i fuck you i fuck you i fuck you i fuck you i fuck you i fuck you i fuck you i fuck you i fuck you i fuck you i fuck you i fuck you i fuck you i fuck you i fuck you i fuck you i fuck you i fuck you i fuck you i fuck you i fuck you i fuc'"
      ]
     },
     "execution_count": 26,
     "metadata": {},
     "output_type": "execute_result"
    }
   ],
   "source": [
    "df[\"comment_text\"][np.argmax(df['len_tokenized_sents'])]"
   ]
  },
  {
   "cell_type": "code",
   "execution_count": 29,
   "metadata": {
    "execution": {
     "iopub.execute_input": "2022-01-19T10:38:42.745110Z",
     "iopub.status.busy": "2022-01-19T10:38:42.744662Z",
     "iopub.status.idle": "2022-01-19T10:38:42.757060Z",
     "shell.execute_reply": "2022-01-19T10:38:42.756281Z",
     "shell.execute_reply.started": "2022-01-19T10:38:42.745059Z"
    }
   },
   "outputs": [
    {
     "data": {
      "text/plain": [
       "0.06572622845003165"
      ]
     },
     "execution_count": 29,
     "metadata": {},
     "output_type": "execute_result"
    }
   ],
   "source": [
    "len(df[df['len_tokenized_sents']>200])/len(df)"
   ]
  },
  {
   "cell_type": "markdown",
   "metadata": {},
   "source": [
    "Now, the comments with lengths more than 200 represents only 6%"
   ]
  },
  {
   "cell_type": "markdown",
   "metadata": {},
   "source": [
    "# prepare data for training"
   ]
  },
  {
   "cell_type": "markdown",
   "metadata": {},
   "source": [
    "For each target we will balance the dataset and split it into train,valid,test. Then we tokenize the comments with bert tokenizer (because we will use bert later in classification).\n",
    "\n",
    "Here we will show only the prosses for 'toxic' target, and we can do the same process for the other targets."
   ]
  },
  {
   "cell_type": "code",
   "execution_count": 6,
   "metadata": {
    "execution": {
     "iopub.execute_input": "2022-01-19T12:01:41.322985Z",
     "iopub.status.busy": "2022-01-19T12:01:41.322720Z",
     "iopub.status.idle": "2022-01-19T12:01:55.018662Z",
     "shell.execute_reply": "2022-01-19T12:01:55.017887Z",
     "shell.execute_reply.started": "2022-01-19T12:01:41.322955Z"
    }
   },
   "outputs": [
    {
     "data": {
      "application/vnd.jupyter.widget-view+json": {
       "model_id": "3754812adcce4bb887734c373da4123f",
       "version_major": 2,
       "version_minor": 0
      },
      "text/plain": [
       "Downloading:   0%|          | 0.00/28.0 [00:00<?, ?B/s]"
      ]
     },
     "metadata": {},
     "output_type": "display_data"
    },
    {
     "data": {
      "application/vnd.jupyter.widget-view+json": {
       "model_id": "87d3ba2eb432469795aeba3159e98794",
       "version_major": 2,
       "version_minor": 0
      },
      "text/plain": [
       "Downloading:   0%|          | 0.00/483 [00:00<?, ?B/s]"
      ]
     },
     "metadata": {},
     "output_type": "display_data"
    },
    {
     "data": {
      "application/vnd.jupyter.widget-view+json": {
       "model_id": "6132a58390ae40f0bbe70e36f313f95a",
       "version_major": 2,
       "version_minor": 0
      },
      "text/plain": [
       "Downloading:   0%|          | 0.00/226k [00:00<?, ?B/s]"
      ]
     },
     "metadata": {},
     "output_type": "display_data"
    },
    {
     "data": {
      "application/vnd.jupyter.widget-view+json": {
       "model_id": "bf9c887e932a4677b40639dfe43b93b7",
       "version_major": 2,
       "version_minor": 0
      },
      "text/plain": [
       "Downloading:   0%|          | 0.00/455k [00:00<?, ?B/s]"
      ]
     },
     "metadata": {},
     "output_type": "display_data"
    },
    {
     "data": {
      "application/vnd.jupyter.widget-view+json": {
       "model_id": "e24ee7350fd5474a9b0c82f65a4115aa",
       "version_major": 2,
       "version_minor": 0
      },
      "text/plain": [
       "  0%|          | 0/28 [00:00<?, ?ba/s]"
      ]
     },
     "metadata": {},
     "output_type": "display_data"
    },
    {
     "data": {
      "application/vnd.jupyter.widget-view+json": {
       "model_id": "2578c3ee938949ba88f0060d35bfbfc0",
       "version_major": 2,
       "version_minor": 0
      },
      "text/plain": [
       "  0%|          | 0/2 [00:00<?, ?ba/s]"
      ]
     },
     "metadata": {},
     "output_type": "display_data"
    }
   ],
   "source": [
    "df=pd.concat([df[(df.toxic==1)],\n",
    "              df[(df.toxic==0)].sample(15294)\n",
    "             ])\n",
    "df['target']=df['toxic']\n",
    "\n",
    "df.reset_index(inplace=True)\n",
    "df_train, df_valid = train_test_split(df, test_size=0.1, random_state=42)\n",
    "df_valid, df_test = train_test_split(df_valid, test_size=0.5, random_state=42)\n",
    "\n",
    "train_ds = datasets.Dataset.from_pandas(df_train[['comment_text','target']])\n",
    "valid_ds = datasets.Dataset.from_pandas(df_valid[['comment_text','target']])\n",
    "\n",
    "checkpoint = \"distilbert-base-uncased\"\n",
    "tokenizer = transformers.AutoTokenizer.from_pretrained(checkpoint)\n",
    "\n",
    "def tokenize_function(example):\n",
    "    return tokenizer(example[\"comment_text\"], truncation=True)\n",
    "\n",
    "tokenized_train_ds = train_ds.map(tokenize_function, batched=True)\n",
    "tokenized_valid_ds = valid_ds.map(tokenize_function, batched=True)\n",
    "\n",
    "batch_size = 16\n",
    "\n",
    "data_collator = transformers.DataCollatorWithPadding(tokenizer=tokenizer)\n",
    "\n",
    "tf_train_ds = tokenized_train_ds.to_tf_dataset(\n",
    "    columns=[\"attention_mask\", \"input_ids\"],\n",
    "    label_cols=[\"target\"],\n",
    "    shuffle=True,\n",
    "    collate_fn=data_collator,\n",
    "    batch_size=batch_size,\n",
    ")\n",
    "\n",
    "tf_valid_ds = tokenized_valid_ds.to_tf_dataset(\n",
    "    columns=[\"attention_mask\", \"input_ids\"],\n",
    "    label_cols=[\"target\"],\n",
    "    shuffle=False,\n",
    "    collate_fn=data_collator,\n",
    "    batch_size=batch_size,\n",
    ")"
   ]
  },
  {
   "cell_type": "markdown",
   "metadata": {},
   "source": [
    "# NLP model, BERT"
   ]
  },
  {
   "cell_type": "code",
   "execution_count": null,
   "metadata": {
    "execution": {
     "iopub.execute_input": "2022-01-09T14:30:05.569457Z",
     "iopub.status.busy": "2022-01-09T14:30:05.569213Z",
     "iopub.status.idle": "2022-01-09T14:30:20.641795Z",
     "shell.execute_reply": "2022-01-09T14:30:20.641073Z",
     "shell.execute_reply.started": "2022-01-09T14:30:05.569425Z"
    }
   },
   "outputs": [],
   "source": [
    "from transformers import TFAutoModelForSequenceClassification\n",
    "\n",
    "model = TFAutoModelForSequenceClassification.from_pretrained(checkpoint, num_labels=1)"
   ]
  },
  {
   "cell_type": "code",
   "execution_count": null,
   "metadata": {
    "execution": {
     "iopub.execute_input": "2022-01-09T14:30:20.643907Z",
     "iopub.status.busy": "2022-01-09T14:30:20.643058Z",
     "iopub.status.idle": "2022-01-09T14:30:20.671203Z",
     "shell.execute_reply": "2022-01-09T14:30:20.670557Z",
     "shell.execute_reply.started": "2022-01-09T14:30:20.643869Z"
    }
   },
   "outputs": [],
   "source": [
    "num_epochs = 2\n",
    "num_train_steps = len(tf_train_ds) * num_epochs\n",
    "\n",
    "lr_scheduler = tf.keras.optimizers.schedules.PolynomialDecay(\n",
    "    initial_learning_rate=5e-5, end_learning_rate=0.0, decay_steps=num_train_steps\n",
    ")\n",
    "\n",
    "model.compile(optimizer=tf.keras.optimizers.Adam(learning_rate=lr_scheduler),\n",
    "              loss=tf.keras.losses.BinaryCrossentropy(from_logits=True),\n",
    "              metrics=['accuracy'])\n",
    "\n",
    "model.summary()"
   ]
  },
  {
   "cell_type": "code",
   "execution_count": null,
   "metadata": {
    "execution": {
     "iopub.execute_input": "2022-01-09T14:30:20.67412Z",
     "iopub.status.busy": "2022-01-09T14:30:20.673854Z",
     "iopub.status.idle": "2022-01-09T14:31:53.415166Z",
     "shell.execute_reply": "2022-01-09T14:31:53.414323Z",
     "shell.execute_reply.started": "2022-01-09T14:30:20.674093Z"
    }
   },
   "outputs": [],
   "source": [
    "fit_history = model.fit(tf_train_ds,\n",
    "                        epochs=1,\n",
    "                        validation_data=tf_valid_ds,\n",
    "                        verbose=1)"
   ]
  },
  {
   "cell_type": "code",
   "execution_count": null,
   "metadata": {
    "execution": {
     "iopub.execute_input": "2022-01-09T14:32:54.244526Z",
     "iopub.status.busy": "2022-01-09T14:32:54.244244Z",
     "iopub.status.idle": "2022-01-09T14:32:54.778849Z",
     "shell.execute_reply": "2022-01-09T14:32:54.778117Z",
     "shell.execute_reply.started": "2022-01-09T14:32:54.244495Z"
    }
   },
   "outputs": [],
   "source": [
    "model.save_pretrained(\"./model_identity_hate\")"
   ]
  },
  {
   "cell_type": "markdown",
   "metadata": {},
   "source": [
    "# Model testing"
   ]
  },
  {
   "cell_type": "code",
   "execution_count": 7,
   "metadata": {
    "execution": {
     "iopub.execute_input": "2022-01-19T12:02:01.880775Z",
     "iopub.status.busy": "2022-01-19T12:02:01.880518Z",
     "iopub.status.idle": "2022-01-19T12:02:07.200195Z",
     "shell.execute_reply": "2022-01-19T12:02:07.199411Z",
     "shell.execute_reply.started": "2022-01-19T12:02:01.880746Z"
    }
   },
   "outputs": [
    {
     "name": "stderr",
     "output_type": "stream",
     "text": [
      "2022-01-19 12:02:01.931956: W tensorflow/python/util/util.cc:348] Sets are not currently considered sequences, but this may change in the future, so consider avoiding using them.\n",
      "All model checkpoint layers were used when initializing TFDistilBertForSequenceClassification.\n",
      "\n",
      "All the layers of TFDistilBertForSequenceClassification were initialized from the model checkpoint at ../input/d/taoufikelkhaouja/my-model/toxic.\n",
      "If your task is similar to the task the model of the checkpoint was trained on, you can already use TFDistilBertForSequenceClassification for predictions without further training.\n"
     ]
    }
   ],
   "source": [
    "from transformers import TFDistilBertForSequenceClassification\n",
    "\n",
    "model = TFDistilBertForSequenceClassification.from_pretrained('../input/d/taoufikelkhaouja/my-model/toxic')"
   ]
  },
  {
   "cell_type": "code",
   "execution_count": 8,
   "metadata": {
    "execution": {
     "iopub.execute_input": "2022-01-19T12:02:11.539378Z",
     "iopub.status.busy": "2022-01-19T12:02:11.538517Z",
     "iopub.status.idle": "2022-01-19T12:02:12.188958Z",
     "shell.execute_reply": "2022-01-19T12:02:12.188307Z",
     "shell.execute_reply.started": "2022-01-19T12:02:11.539332Z"
    }
   },
   "outputs": [
    {
     "data": {
      "application/vnd.jupyter.widget-view+json": {
       "model_id": "199f6ebf4189472b8955b019b816ec45",
       "version_major": 2,
       "version_minor": 0
      },
      "text/plain": [
       "  0%|          | 0/2 [00:00<?, ?ba/s]"
      ]
     },
     "metadata": {},
     "output_type": "display_data"
    }
   ],
   "source": [
    "test_ds = datasets.Dataset.from_pandas(df_test)\n",
    "tokenized_test_ds = test_ds.map(tokenize_function, batched=True)\n",
    "tf_test_ds = tokenized_test_ds.to_tf_dataset(\n",
    "    columns=[\"attention_mask\", \"input_ids\"],\n",
    "    shuffle=False,\n",
    "    collate_fn=data_collator,\n",
    "    batch_size=batch_size,\n",
    ")"
   ]
  },
  {
   "cell_type": "code",
   "execution_count": 9,
   "metadata": {
    "execution": {
     "iopub.execute_input": "2022-01-19T12:02:13.955998Z",
     "iopub.status.busy": "2022-01-19T12:02:13.955743Z",
     "iopub.status.idle": "2022-01-19T12:02:28.102334Z",
     "shell.execute_reply": "2022-01-19T12:02:28.101502Z",
     "shell.execute_reply.started": "2022-01-19T12:02:13.955970Z"
    }
   },
   "outputs": [],
   "source": [
    "raw_result = model.predict(tf_test_ds)\n",
    "result = raw_result.logits"
   ]
  },
  {
   "cell_type": "code",
   "execution_count": 10,
   "metadata": {
    "execution": {
     "iopub.execute_input": "2022-01-19T12:03:31.917848Z",
     "iopub.status.busy": "2022-01-19T12:03:31.917578Z",
     "iopub.status.idle": "2022-01-19T12:03:31.929179Z",
     "shell.execute_reply": "2022-01-19T12:03:31.928244Z",
     "shell.execute_reply.started": "2022-01-19T12:03:31.917818Z"
    }
   },
   "outputs": [],
   "source": [
    "df_test['score'] = tf.math.sigmoid(result)[:, 0]\n",
    "df_test['score'] = df_test['score'].apply(lambda x: 0 if x<0.5 else 1)"
   ]
  },
  {
   "cell_type": "code",
   "execution_count": 11,
   "metadata": {
    "execution": {
     "iopub.execute_input": "2022-01-19T12:03:35.043137Z",
     "iopub.status.busy": "2022-01-19T12:03:35.042860Z",
     "iopub.status.idle": "2022-01-19T12:03:35.056248Z",
     "shell.execute_reply": "2022-01-19T12:03:35.055367Z",
     "shell.execute_reply.started": "2022-01-19T12:03:35.043106Z"
    }
   },
   "outputs": [
    {
     "data": {
      "text/plain": [
       "0.9712460063897763"
      ]
     },
     "execution_count": 11,
     "metadata": {},
     "output_type": "execute_result"
    }
   ],
   "source": [
    "from sklearn.metrics import f1_score\n",
    "\n",
    "f1_score(df_test['target'],df_test['score'])"
   ]
  },
  {
   "cell_type": "markdown",
   "metadata": {},
   "source": [
    "On the test set we obtain 0.97 of F1 score, which is great :)"
   ]
  },
  {
   "cell_type": "code",
   "execution_count": null,
   "metadata": {},
   "outputs": [],
   "source": []
  }
 ],
 "metadata": {
  "kernelspec": {
   "display_name": "Python 3 (ipykernel)",
   "language": "python",
   "name": "python3"
  },
  "language_info": {
   "codemirror_mode": {
    "name": "ipython",
    "version": 3
   },
   "file_extension": ".py",
   "mimetype": "text/x-python",
   "name": "python",
   "nbconvert_exporter": "python",
   "pygments_lexer": "ipython3",
   "version": "3.9.7"
  }
 },
 "nbformat": 4,
 "nbformat_minor": 4
}
